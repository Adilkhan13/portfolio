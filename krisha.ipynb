{
 "cells": [
  {
   "cell_type": "code",
   "execution_count": 96,
   "id": "5e4da235",
   "metadata": {},
   "outputs": [
    {
     "data": {
      "text/html": [
       "<div>\n",
       "<style scoped>\n",
       "    .dataframe tbody tr th:only-of-type {\n",
       "        vertical-align: middle;\n",
       "    }\n",
       "\n",
       "    .dataframe tbody tr th {\n",
       "        vertical-align: top;\n",
       "    }\n",
       "\n",
       "    .dataframe thead th {\n",
       "        text-align: right;\n",
       "    }\n",
       "</style>\n",
       "<table border=\"1\" class=\"dataframe\">\n",
       "  <thead>\n",
       "    <tr style=\"text-align: right;\">\n",
       "      <th></th>\n",
       "      <th>name</th>\n",
       "      <th>rooms</th>\n",
       "      <th>city</th>\n",
       "      <th>addres</th>\n",
       "      <th>area</th>\n",
       "      <th>price</th>\n",
       "      <th>text</th>\n",
       "      <th>link</th>\n",
       "    </tr>\n",
       "  </thead>\n",
       "  <tbody>\n",
       "    <tr>\n",
       "      <th>0</th>\n",
       "      <td>3-комнатная квартира, 140 м², 8/9 этаж</td>\n",
       "      <td>3</td>\n",
       "      <td>Нур-Султан (Астана)</td>\n",
       "      <td>Есильский р-н, Умай Ана 15</td>\n",
       "      <td>140</td>\n",
       "      <td>57900000</td>\n",
       "      <td>жил. комплекс Paris, кирпичный дом, 2020 г.п.,...</td>\n",
       "      <td>https://krisha.kz/a/show/668894484</td>\n",
       "    </tr>\n",
       "    <tr>\n",
       "      <th>1</th>\n",
       "      <td>2-комнатная квартира, 44 м², 3/5 этаж</td>\n",
       "      <td>2</td>\n",
       "      <td>Алматы</td>\n",
       "      <td>Алмалинский р-н, мкр Тастак-2 41а</td>\n",
       "      <td>44</td>\n",
       "      <td>23000000</td>\n",
       "      <td>панельный дом, 1982 г.п., состояние: среднее, ...</td>\n",
       "      <td>https://krisha.kz/a/show/669815216</td>\n",
       "    </tr>\n",
       "    <tr>\n",
       "      <th>2</th>\n",
       "      <td>2-комнатная квартира, 107.8 м²</td>\n",
       "      <td>2</td>\n",
       "      <td>Актау</td>\n",
       "      <td>14-й мкр 73</td>\n",
       "      <td>107</td>\n",
       "      <td>48510000</td>\n",
       "      <td>жил. комплекс Khazar Palace, 18 этажей, 2019 г...</td>\n",
       "      <td>https://krisha.kz/a/show/669912546</td>\n",
       "    </tr>\n",
       "    <tr>\n",
       "      <th>3</th>\n",
       "      <td>2-комнатная квартира, 56 м², 4/4 этаж</td>\n",
       "      <td>2</td>\n",
       "      <td>Темиртау</td>\n",
       "      <td>проспект строителей 21</td>\n",
       "      <td>56</td>\n",
       "      <td>7200000</td>\n",
       "      <td>1960 г.п., потолки 3м., санузел раздельный, Пр...</td>\n",
       "      <td>https://krisha.kz/a/show/667706458</td>\n",
       "    </tr>\n",
       "    <tr>\n",
       "      <th>4</th>\n",
       "      <td>4-комнатная квартира, 72 м², 5/5 этаж</td>\n",
       "      <td>4</td>\n",
       "      <td>Шымкент</td>\n",
       "      <td>проспект Кабанбай батыра 17</td>\n",
       "      <td>72</td>\n",
       "      <td>17500000</td>\n",
       "      <td>1990 г.п., состояние: хорошее, санузел раздель...</td>\n",
       "      <td>https://krisha.kz/a/show/57040025</td>\n",
       "    </tr>\n",
       "  </tbody>\n",
       "</table>\n",
       "</div>"
      ],
      "text/plain": [
       "                                     name rooms                 city  \\\n",
       "0  3-комнатная квартира, 140 м², 8/9 этаж     3  Нур-Султан (Астана)   \n",
       "1   2-комнатная квартира, 44 м², 3/5 этаж     2               Алматы   \n",
       "2          2-комнатная квартира, 107.8 м²     2                Актау   \n",
       "3   2-комнатная квартира, 56 м², 4/4 этаж     2             Темиртау   \n",
       "4   4-комнатная квартира, 72 м², 5/5 этаж     4              Шымкент   \n",
       "\n",
       "                              addres area     price  \\\n",
       "0         Есильский р-н, Умай Ана 15  140  57900000   \n",
       "1  Алмалинский р-н, мкр Тастак-2 41а   44  23000000   \n",
       "2                        14-й мкр 73  107  48510000   \n",
       "3             проспект строителей 21   56   7200000   \n",
       "4        проспект Кабанбай батыра 17   72  17500000   \n",
       "\n",
       "                                                text  \\\n",
       "0  жил. комплекс Paris, кирпичный дом, 2020 г.п.,...   \n",
       "1  панельный дом, 1982 г.п., состояние: среднее, ...   \n",
       "2  жил. комплекс Khazar Palace, 18 этажей, 2019 г...   \n",
       "3  1960 г.п., потолки 3м., санузел раздельный, Пр...   \n",
       "4  1990 г.п., состояние: хорошее, санузел раздель...   \n",
       "\n",
       "                                 link  \n",
       "0  https://krisha.kz/a/show/668894484  \n",
       "1  https://krisha.kz/a/show/669815216  \n",
       "2  https://krisha.kz/a/show/669912546  \n",
       "3  https://krisha.kz/a/show/667706458  \n",
       "4   https://krisha.kz/a/show/57040025  "
      ]
     },
     "execution_count": 96,
     "metadata": {},
     "output_type": "execute_result"
    }
   ],
   "source": [
    "from bs4 import BeautifulSoup\n",
    "import requests\n",
    "import pandas as pd\n",
    "import re\n",
    "\n",
    "URL = 'https://krisha.kz/prodazha/kvartiry/'\n",
    "HEADERS = {'user-agent':'Mozilla/5.0 (Windows NT 10.0; Win64; x64) AppleWebKit/537.36 (KHTML, like Gecko) Chrome/93.0.4577.82 Safari/537.36',\n",
    "          'accept':'*/*'}\n",
    "\n",
    "data = {'name':[],'rooms':[],'city':[],'addres':[],'area':[],'price':[],'text':[],'link':[]}\n",
    "\n",
    "def get_html(url, params = None):\n",
    "    r = requests.get(url,headers = HEADERS,params = params)\n",
    "    return r\n",
    "\n",
    "    \n",
    "\n",
    "def get_content(html):\n",
    "    soup = BeautifulSoup(html,'html.parser')\n",
    "    items = soup.find_all('div',class_ ='a-card__descr')\n",
    "    for item in items:\n",
    "        data['name'].append(item.find('a',class_ =\"a-card__title\").get_text())\n",
    "        data['rooms'].append(re.findall(r'\\d+',item.find('a',class_ =\"a-card__title\").get_text().split(',')[0])[0])\n",
    "        data['area'].append(re.findall(r'\\d+',item.find('a',class_ =\"a-card__title\").get_text().split(',')[1])[0])\n",
    "        \n",
    "        data['price'].append(''.join(re.findall(r'\\d+',item.find('div',class_ =\"a-card__price\").get_text())))\n",
    "        data['addres'].append(item.find('div',class_ =\"a-card__subtitle\").get_text().strip())\n",
    "        \n",
    "        data['text'].append(item.find('div',class_ =\"a-card__text-preview\").get_text().strip())\n",
    "        data['link'].append('https://krisha.kz' + item.find('a',class_ =\"a-card__title\").get('href').strip())\n",
    "        data['city'].append(item.find('div',class_ =\"card-stats__item\").get_text().strip())\n",
    "    \n",
    "        \n",
    "def parse():\n",
    "    #300 страниц\n",
    "    for i in range(1,500):\n",
    "        html = get_html(URL + '?page='+str(i))\n",
    "\n",
    "        if html.status_code == 200:\n",
    "\n",
    "            get_content(html.text)\n",
    "\n",
    "        else:\n",
    "            print('Error: 1')\n",
    "        \n",
    "        \n",
    "parse()\n",
    "df = pd.DataFrame(data)\n",
    "df.head()\n"
   ]
  },
  {
   "cell_type": "code",
   "execution_count": 107,
   "id": "95e5cad0",
   "metadata": {},
   "outputs": [],
   "source": [
    "df['price'] = df['price'].astype('int64')\n",
    "df['rooms'] = df['rooms'].astype(int)\n",
    "df['area'] = df['area'].astype(int)"
   ]
  },
  {
   "cell_type": "code",
   "execution_count": 114,
   "id": "13f8c8d8",
   "metadata": {},
   "outputs": [
    {
     "data": {
      "text/plain": [
       "<AxesSubplot:title={'center':'Top 5 most expensive cites in krisha'}, xlabel='city'>"
      ]
     },
     "execution_count": 114,
     "metadata": {},
     "output_type": "execute_result"
    },
    {
     "data": {
      "image/png": "[encoded data removed]",
      "text/plain": [
       "<Figure size 720x360 with 1 Axes>"
      ]
     },
     "metadata": {
      "needs_background": "light"
     },
     "output_type": "display_data"
    }
   ],
   "source": [
    "df.groupby('city').mean().sort_values('price',ascending = False).price.head(5).plot(kind = 'bar',figsize = (10,5),title = 'Top 5 most expensive cites in krisha')\n"
   ]
  },
  {
   "cell_type": "code",
   "execution_count": 115,
   "id": "4ebcd1ea",
   "metadata": {},
   "outputs": [
    {
     "data": {
      "text/plain": [
       "<AxesSubplot:title={'center':'Top 5 cheapest cites in krisha'}, xlabel='city'>"
      ]
     },
     "execution_count": 115,
     "metadata": {},
     "output_type": "execute_result"
    },
    {
     "data": {
      "image/png": "[encoded data removed]",
      "text/plain": [
       "<Figure size 720x360 with 1 Axes>"
      ]
     },
     "metadata": {
      "needs_background": "light"
     },
     "output_type": "display_data"
    }
   ],
   "source": [
    "df.groupby('city').mean().sort_values('price',ascending = True).price.head(5).plot(kind = 'bar',figsize = (10,5),title = 'Top 5 cheapest cites in krisha')"
   ]
  },
  {
   "cell_type": "code",
   "execution_count": 116,
   "id": "4ae855a9",
   "metadata": {},
   "outputs": [],
   "source": [
    "df.to_csv('Krisha_19_09_2021.csv')"
   ]
  }
 ],
 "metadata": {
  "kernelspec": {
   "display_name": "Python 3",
   "language": "python",
   "name": "python3"
  },
  "language_info": {
   "codemirror_mode": {
    "name": "ipython",
    "version": 3
   },
   "file_extension": ".py",
   "mimetype": "text/x-python",
   "name": "python",
   "nbconvert_exporter": "python",
   "pygments_lexer": "ipython3",
   "version": "3.8.8"
  }
 },
 "nbformat": 4,
 "nbformat_minor": 5
}
