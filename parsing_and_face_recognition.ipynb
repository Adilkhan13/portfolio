{
 "cells": [
  {
   "cell_type": "markdown",
   "id": "b9363cfa",
   "metadata": {},
   "source": [
    "## Simple example of face_recognition\n"
   ]
  },
  {
   "cell_type": "code",
   "execution_count": null,
   "id": "b59ca1bc",
   "metadata": {},
   "outputs": [],
   "source": [
    "from PIL import Image\n",
    "\n",
    "import face_recognition\n",
    "\n",
    "from PIL import Image\n",
    "import cv2\n",
    "import numpy as np\n",
    "import face_recognition\n",
    "import urllib.request\n",
    "\n",
    "import matplotlib.pyplot as plt "
   ]
  },
  {
   "cell_type": "markdown",
   "id": "68abee45",
   "metadata": {},
   "source": [
    "## Parsing photos from ppz.kz"
   ]
  },
  {
   "cell_type": "code",
   "execution_count": null,
   "id": "5cfc6ecd",
   "metadata": {},
   "outputs": [],
   "source": [
    "from bs4 import BeautifulSoup\n",
    "import requests\n",
    "\n",
    "URL_domen = 'https://ppz.kz/'\n",
    "URL = 'https://ppz.kz/ru/gallery/nochnaya-zhizn/'\n",
    "HEADERS = {'user-agent':'Mozilla/5.0 (Windows NT 10.0; Win64; x64) AppleWebKit/537.36 (KHTML, like Gecko) Chrome/93.0.4577.82 Safari/537.36',\n",
    "          'accept':'*/*'}\n",
    "data = []\n",
    "def get_html(url, params = None):\n",
    "    r = requests.get(url,headers = HEADERS,params = params)\n",
    "    return r\n",
    "\n",
    "    \n",
    "def get_links(html):\n",
    "    soup = BeautifulSoup(html,'html.parser')\n",
    "    items = soup.find_all('article',class_ ='vlog-post vlog-lay-e vlog-cat col-lg-4 col-sm-6 col-md-4 col-xs-12 post-156 post type-post status-publish format-video has-post-thumbnail hentry category-technology tag-magazine tag-video tag-vlog post_format-post-format-video series-amazing-stories-from-around-the-globe')\n",
    "    #print(items)\n",
    "    links = []\n",
    "    for item in items:\n",
    "        i = item.find('a').get('href')\n",
    "        links.append(i)\n",
    "    return links\n",
    "\n",
    "def get_content(html):\n",
    "    soup = BeautifulSoup(html,'html.parser')\n",
    "    items = soup.find_all('figure',class_ ='gallery-item')\n",
    "    for item in items:\n",
    "        i = item.find(class_ =\"attachment-vlog-lay-e-full size-vlog-lay-e-full\").get('src')\n",
    "        \n",
    "        data.append(URL_domen+i)\n",
    "    \n",
    "        \n",
    "def parse():\n",
    "    html = get_html(URL)\n",
    "\n",
    "    if html.status_code == 200:\n",
    "        \n",
    "        for i in get_links(html.text):\n",
    "            html_1 = get_html(URL_domen + i)\n",
    "            get_content(html_1.text)\n",
    "        \n",
    "    else:\n",
    "        print('Error: 1')\n",
    "        \n",
    "        \n",
    "parse()\n",
    "data"
   ]
  },
  {
   "cell_type": "markdown",
   "id": "59499048",
   "metadata": {},
   "source": [
    "## finding the person from 'photo.jpeg' "
   ]
  },
  {
   "cell_type": "code",
   "execution_count": null,
   "id": "8ef97732",
   "metadata": {},
   "outputs": [],
   "source": [
    "known_image = face_recognition.load_image_file('./data/photo.jpg')\n",
    "biden_encoding = face_recognition.face_encodings(known_image)\n",
    "#for biden in biden_encoding:\n",
    "#    img =Image.fromarray(biden)\n",
    "#    img.show()\n",
    "biden_encoding = biden_encoding[0]\n",
    "\n",
    "# Read the input image\n",
    "for link in data:\n",
    "\n",
    "    img = urllib.request.urlopen(link)\n",
    "    unknown_image = face_recognition.load_image_file(img)\n",
    "    face_enc = face_recognition.face_encodings(unknown_image)\n",
    "    if face_enc:\n",
    "        for face in face_enc: \n",
    "            results = face_recognition.compare_faces([biden_encoding],face,tolerance=0.4)\n",
    "            if results[0]==True:\n",
    "                print(results,link)\n",
    "                plt.imshow(plt.imread(link, format = 'jpeg'))\n",
    "                plt.show()\n"
   ]
  },
  {
   "cell_type": "code",
   "execution_count": null,
   "id": "c356dc8c",
   "metadata": {},
   "outputs": [],
   "source": []
  }
 ],
 "metadata": {
  "kernelspec": {
   "display_name": "Python 3",
   "language": "python",
   "name": "python3"
  },
  "language_info": {
   "codemirror_mode": {
    "name": "ipython",
    "version": 3
   },
   "file_extension": ".py",
   "mimetype": "text/x-python",
   "name": "python",
   "nbconvert_exporter": "python",
   "pygments_lexer": "ipython3",
   "version": "3.8.8"
  }
 },
 "nbformat": 4,
 "nbformat_minor": 5
}
